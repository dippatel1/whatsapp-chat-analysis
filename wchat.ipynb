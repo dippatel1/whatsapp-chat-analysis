{
 "cells": [
  {
   "cell_type": "code",
   "execution_count": 39,
   "id": "abc567cb",
   "metadata": {},
   "outputs": [
    {
     "data": {
      "text/plain": [
       "['6/29/22, 09:15',\n",
       " '6/29/22, 07:50',\n",
       " '6/29/22, 08:04',\n",
       " '6/29/22, 08:19',\n",
       " '6/29/22, 08:19']"
      ]
     },
     "execution_count": 39,
     "metadata": {},
     "output_type": "execute_result"
    }
   ],
   "source": [
    "for i in range(0,len(dates)):\n",
    "    str1=dates[i]\n",
    "    len1=len(str1)\n",
    "    str1=str1[:len1-3]\n",
    "    dates[i]=str1\n",
    "    \n",
    "    \n",
    "dates"
   ]
  },
  {
   "cell_type": "code",
   "execution_count": 50,
   "id": "13a65a14",
   "metadata": {},
   "outputs": [
    {
     "name": "stdout",
     "output_type": "stream",
     "text": [
      "<class 'str'>\n",
      "6/29/22, 09:15\n",
      "<class 'str'>\n",
      "6/29/22, 07:50\n",
      "<class 'str'>\n",
      "6/29/22, 08:04\n",
      "<class 'str'>\n",
      "6/29/22, 08:19\n",
      "<class 'str'>\n",
      "6/29/22, 08:19\n"
     ]
    }
   ],
   "source": [
    "from datetime import datetime\n",
    "\n",
    "for i in  range(0,len(dates)):\n",
    "    date_str=dates[i]\n",
    "    print(type(date_str))\n",
    "    print(date_str)\n",
    "    date_obj=datetime.strptime(date_str,'%m/%d/%y, %H:%M')\n",
    "    dates[i]=date_obj\n",
    "    \n",
    "    "
   ]
  },
  {
   "cell_type": "code",
   "execution_count": 47,
   "id": "0f059dcf",
   "metadata": {},
   "outputs": [
    {
     "name": "stdout",
     "output_type": "stream",
     "text": [
      "<class 'datetime.datetime'>\n",
      "2022-06-29 05:33:00\n"
     ]
    }
   ],
   "source": [
    "from datetime import datetime\n",
    "date_str = '06/29/22, 05:33'\n",
    "\n",
    "date_object = datetime.strptime(date_str, '%m/%d/%y, %H:%M')\n",
    "print(type(date_object))\n",
    "print(date_object)  "
   ]
  },
  {
   "cell_type": "code",
   "execution_count": 1,
   "id": "7068b26e",
   "metadata": {
    "scrolled": true
   },
   "outputs": [],
   "source": [
    "import re\n",
    "import pandas as pd\n"
   ]
  },
  {
   "cell_type": "code",
   "execution_count": 3,
   "id": "384f0c39",
   "metadata": {},
   "outputs": [
    {
     "name": "stdout",
     "output_type": "stream",
     "text": [
      "Defaulting to user installation because normal site-packages is not writeable\n",
      "Collecting pandas\n",
      "  Using cached pandas-1.5.1-cp39-cp39-win_amd64.whl (10.9 MB)\n",
      "Requirement already satisfied: numpy>=1.20.3 in c:\\users\\91832\\appdata\\roaming\\python\\python39\\site-packages (from pandas) (1.21.4)\n",
      "Collecting pytz>=2020.1\n",
      "  Using cached pytz-2022.6-py2.py3-none-any.whl (498 kB)\n",
      "Requirement already satisfied: python-dateutil>=2.8.1 in c:\\users\\91832\\appdata\\roaming\\python\\python39\\site-packages (from pandas) (2.8.2)\n",
      "Requirement already satisfied: six>=1.5 in c:\\users\\91832\\appdata\\roaming\\python\\python39\\site-packages (from python-dateutil>=2.8.1->pandas) (1.16.0)\n",
      "Installing collected packages: pytz, pandas\n",
      "Successfully installed pandas-1.5.1 pytz-2022.6\n",
      "Note: you may need to restart the kernel to use updated packages.\n"
     ]
    },
    {
     "name": "stderr",
     "output_type": "stream",
     "text": [
      "\n",
      "[notice] A new release of pip available: 22.2.2 -> 22.3.1\n",
      "[notice] To update, run: c:\\program files\\python39\\python.exe -m pip install --upgrade pip\n"
     ]
    }
   ],
   "source": [
    "pip install pandas "
   ]
  },
  {
   "cell_type": "code",
   "execution_count": 5,
   "id": "2f41b994",
   "metadata": {},
   "outputs": [
    {
     "name": "stdout",
     "output_type": "stream",
     "text": [
      "Defaulting to user installation because normal site-packages is not writeable\n",
      "Requirement already satisfied: pip in c:\\users\\91832\\appdata\\roaming\\python\\python39\\site-packages (22.2.2)\n",
      "Collecting pip\n",
      "  Using cached pip-22.3.1-py3-none-any.whl (2.1 MB)\n",
      "Installing collected packages: pip\n",
      "  Attempting uninstall: pip\n",
      "    Found existing installation: pip 22.2.2\n",
      "    Uninstalling pip-22.2.2:\n",
      "      Successfully uninstalled pip-22.2.2\n",
      "Successfully installed pip-22.3.1\n",
      "Note: you may need to restart the kernel to use updated packages.\n"
     ]
    }
   ],
   "source": [
    "pip install --upgrade pip"
   ]
  },
  {
   "cell_type": "code",
   "execution_count": 1,
   "id": "1f6b80cd",
   "metadata": {},
   "outputs": [],
   "source": [
    "import re\n",
    "import pandas as pd\n"
   ]
  },
  {
   "cell_type": "code",
   "execution_count": 2,
   "id": "6d36be24",
   "metadata": {},
   "outputs": [],
   "source": [
    "f=open('C:/Users/91832/Downloads/whd.txt','r',encoding='utf-8')\n",
    "pattern = '\\d{1,2}/\\d{1,2}/\\d{2,4},\\s\\d{1,2}:\\d{2}\\s-\\s'"
   ]
  },
  {
   "cell_type": "code",
   "execution_count": 3,
   "id": "8474eecb",
   "metadata": {},
   "outputs": [],
   "source": [
    "data=f.read()"
   ]
  },
  {
   "cell_type": "code",
   "execution_count": 4,
   "id": "f3561aa9",
   "metadata": {},
   "outputs": [
    {
     "data": {
      "text/plain": [
       "'6/29/22, 09:15 - Messages and calls are end-to-end encrypted. No one outside of this chat, not even WhatsApp, can read or listen to them. Tap to learn more.\\n6/29/22, 07:50 - Heta: https://mega.nz/folder/ldBSEa6K\\n\\n\\n\\n9EfsI2jZiHwSMjbVfSG8WQ\\n6/29/22, 08:04 - Dipkumar Hareshkumar Pate: \\U0001f979 Khusi k aansu aa gaye\\n6/29/22, 08:19 - Heta: ❤️🥺🥺\\n6/29/22, 08:19 - Heta: Khushi huie\\n\\n'"
      ]
     },
     "execution_count": 4,
     "metadata": {},
     "output_type": "execute_result"
    }
   ],
   "source": [
    "data"
   ]
  },
  {
   "cell_type": "code",
   "execution_count": 5,
   "id": "67f2b2bc",
   "metadata": {},
   "outputs": [
    {
     "name": "stdout",
     "output_type": "stream",
     "text": [
      "['Messages and calls are end-to-end encrypted. No one outside of this chat, not even WhatsApp, can read or listen to them. Tap to learn more.\\n', 'Heta: https://mega.nz/folder/ldBSEa6K\\n\\n\\n\\n9EfsI2jZiHwSMjbVfSG8WQ\\n', 'Dipkumar Hareshkumar Pate: \\U0001f979 Khusi k aansu aa gaye\\n', 'Heta: ❤️🥺🥺\\n', 'Heta: Khushi huie\\n\\n']\n"
     ]
    }
   ],
   "source": [
    "messages = re.split(pattern, data)[1:]\n",
    "print(messages)"
   ]
  },
  {
   "cell_type": "code",
   "execution_count": 6,
   "id": "ef904012",
   "metadata": {},
   "outputs": [
    {
     "name": "stdout",
     "output_type": "stream",
     "text": [
      "['6/29/22, 09:15 - ', '6/29/22, 07:50 - ', '6/29/22, 08:04 - ', '6/29/22, 08:19 - ', '6/29/22, 08:19 - ']\n"
     ]
    }
   ],
   "source": [
    "dates = re.findall(pattern, data)\n",
    "print(dates)"
   ]
  },
  {
   "cell_type": "code",
   "execution_count": 7,
   "id": "8f69124f",
   "metadata": {},
   "outputs": [
    {
     "data": {
      "text/plain": [
       "['6/29/22, 09:15 - ',\n",
       " '6/29/22, 07:50 - ',\n",
       " '6/29/22, 08:04 - ',\n",
       " '6/29/22, 08:19 - ',\n",
       " '6/29/22, 08:19 - ']"
      ]
     },
     "execution_count": 7,
     "metadata": {},
     "output_type": "execute_result"
    }
   ],
   "source": [
    "dates"
   ]
  },
  {
   "cell_type": "code",
   "execution_count": 8,
   "id": "86fb4b62",
   "metadata": {},
   "outputs": [
    {
     "data": {
      "text/plain": [
       "['6/29/22, 09:15',\n",
       " '6/29/22, 07:50',\n",
       " '6/29/22, 08:04',\n",
       " '6/29/22, 08:19',\n",
       " '6/29/22, 08:19']"
      ]
     },
     "execution_count": 8,
     "metadata": {},
     "output_type": "execute_result"
    }
   ],
   "source": [
    "for i in range(0,len(dates)):\n",
    "    str1=dates[i]\n",
    "    len1=len(str1)\n",
    "    str1=str1[:len1-3]\n",
    "    dates[i]=str1\n",
    "    \n",
    "    \n",
    "dates"
   ]
  },
  {
   "cell_type": "code",
   "execution_count": 9,
   "id": "01f1c1f9",
   "metadata": {},
   "outputs": [
    {
     "data": {
      "text/plain": [
       "str"
      ]
     },
     "execution_count": 9,
     "metadata": {},
     "output_type": "execute_result"
    }
   ],
   "source": [
    "type(dates[2])"
   ]
  },
  {
   "cell_type": "code",
   "execution_count": 10,
   "id": "4057cdf7",
   "metadata": {},
   "outputs": [
    {
     "name": "stdout",
     "output_type": "stream",
     "text": [
      "<class 'str'>\n",
      "6/29/22, 09:15\n",
      "<class 'str'>\n",
      "6/29/22, 07:50\n",
      "<class 'str'>\n",
      "6/29/22, 08:04\n",
      "<class 'str'>\n",
      "6/29/22, 08:19\n",
      "<class 'str'>\n",
      "6/29/22, 08:19\n"
     ]
    }
   ],
   "source": [
    "from datetime import datetime\n",
    "\n",
    "for i in  range(0,len(dates)):\n",
    "    date_str=dates[i]\n",
    "    print(type(date_str))\n",
    "    print(date_str)\n",
    "    date_obj=datetime.strptime(date_str,'%m/%d/%y, %H:%M')\n",
    "    dates[i]=date_obj\n",
    "    \n"
   ]
  },
  {
   "cell_type": "code",
   "execution_count": 11,
   "id": "a17f3f21",
   "metadata": {},
   "outputs": [],
   "source": [
    "df = pd.DataFrame({'user_message': messages, 'message_date': dates})\n",
    "\n",
    "df['message_date']\n",
    "    # convert message_date type\n",
    "#df['message_date'] = pd.to_datetime(df['message_date'], format='%d/%m/%y, %H:%M')\n",
    "\n",
    "df.rename(columns={'message_date': 'date'}, inplace=True)"
   ]
  },
  {
   "cell_type": "code",
   "execution_count": 64,
   "id": "98d68deb",
   "metadata": {},
   "outputs": [
    {
     "data": {
      "text/html": [
       "<div>\n",
       "<style scoped>\n",
       "    .dataframe tbody tr th:only-of-type {\n",
       "        vertical-align: middle;\n",
       "    }\n",
       "\n",
       "    .dataframe tbody tr th {\n",
       "        vertical-align: top;\n",
       "    }\n",
       "\n",
       "    .dataframe thead th {\n",
       "        text-align: right;\n",
       "    }\n",
       "</style>\n",
       "<table border=\"1\" class=\"dataframe\">\n",
       "  <thead>\n",
       "    <tr style=\"text-align: right;\">\n",
       "      <th></th>\n",
       "      <th>user_message</th>\n",
       "      <th>date</th>\n",
       "    </tr>\n",
       "  </thead>\n",
       "  <tbody>\n",
       "    <tr>\n",
       "      <th>0</th>\n",
       "      <td>Messages and calls are end-to-end encrypted. N...</td>\n",
       "      <td>2022-06-29 09:15:00</td>\n",
       "    </tr>\n",
       "    <tr>\n",
       "      <th>1</th>\n",
       "      <td>Heta: https://mega.nz/folder/ldBSEa6K\\n\\n\\n\\n9...</td>\n",
       "      <td>2022-06-29 07:50:00</td>\n",
       "    </tr>\n",
       "    <tr>\n",
       "      <th>2</th>\n",
       "      <td>Dipkumar Hareshkumar Pate: 🥹 Khusi k aansu aa ...</td>\n",
       "      <td>2022-06-29 08:04:00</td>\n",
       "    </tr>\n",
       "    <tr>\n",
       "      <th>3</th>\n",
       "      <td>Heta: ❤️🥺🥺\\n</td>\n",
       "      <td>2022-06-29 08:19:00</td>\n",
       "    </tr>\n",
       "    <tr>\n",
       "      <th>4</th>\n",
       "      <td>Heta: Khushi huie\\n\\n</td>\n",
       "      <td>2022-06-29 08:19:00</td>\n",
       "    </tr>\n",
       "  </tbody>\n",
       "</table>\n",
       "</div>"
      ],
      "text/plain": [
       "                                        user_message                date\n",
       "0  Messages and calls are end-to-end encrypted. N... 2022-06-29 09:15:00\n",
       "1  Heta: https://mega.nz/folder/ldBSEa6K\\n\\n\\n\\n9... 2022-06-29 07:50:00\n",
       "2  Dipkumar Hareshkumar Pate: 🥹 Khusi k aansu aa ... 2022-06-29 08:04:00\n",
       "3                                       Heta: ❤️🥺🥺\\n 2022-06-29 08:19:00\n",
       "4                              Heta: Khushi huie\\n\\n 2022-06-29 08:19:00"
      ]
     },
     "execution_count": 64,
     "metadata": {},
     "output_type": "execute_result"
    }
   ],
   "source": [
    "df"
   ]
  },
  {
   "cell_type": "code",
   "execution_count": 12,
   "id": "85ab4cea",
   "metadata": {},
   "outputs": [
    {
     "data": {
      "text/html": [
       "<div>\n",
       "<style scoped>\n",
       "    .dataframe tbody tr th:only-of-type {\n",
       "        vertical-align: middle;\n",
       "    }\n",
       "\n",
       "    .dataframe tbody tr th {\n",
       "        vertical-align: top;\n",
       "    }\n",
       "\n",
       "    .dataframe thead th {\n",
       "        text-align: right;\n",
       "    }\n",
       "</style>\n",
       "<table border=\"1\" class=\"dataframe\">\n",
       "  <thead>\n",
       "    <tr style=\"text-align: right;\">\n",
       "      <th></th>\n",
       "      <th>date</th>\n",
       "      <th>user</th>\n",
       "      <th>message</th>\n",
       "    </tr>\n",
       "  </thead>\n",
       "  <tbody>\n",
       "    <tr>\n",
       "      <th>0</th>\n",
       "      <td>2022-06-29 09:15:00</td>\n",
       "      <td>group_notification</td>\n",
       "      <td>Messages and calls are end-to-end encrypted. N...</td>\n",
       "    </tr>\n",
       "    <tr>\n",
       "      <th>1</th>\n",
       "      <td>2022-06-29 07:50:00</td>\n",
       "      <td>Heta</td>\n",
       "      <td>https://mega.nz/folder/ldBSEa6K\\n\\n\\n\\n9EfsI2j...</td>\n",
       "    </tr>\n",
       "    <tr>\n",
       "      <th>2</th>\n",
       "      <td>2022-06-29 08:04:00</td>\n",
       "      <td>Dipkumar Hareshkumar Pate</td>\n",
       "      <td>🥹 Khusi k aansu aa gaye\\n</td>\n",
       "    </tr>\n",
       "    <tr>\n",
       "      <th>3</th>\n",
       "      <td>2022-06-29 08:19:00</td>\n",
       "      <td>Heta</td>\n",
       "      <td>❤️🥺🥺\\n</td>\n",
       "    </tr>\n",
       "    <tr>\n",
       "      <th>4</th>\n",
       "      <td>2022-06-29 08:19:00</td>\n",
       "      <td>Heta</td>\n",
       "      <td>Khushi huie\\n\\n</td>\n",
       "    </tr>\n",
       "  </tbody>\n",
       "</table>\n",
       "</div>"
      ],
      "text/plain": [
       "                 date                       user  \\\n",
       "0 2022-06-29 09:15:00         group_notification   \n",
       "1 2022-06-29 07:50:00                       Heta   \n",
       "2 2022-06-29 08:04:00  Dipkumar Hareshkumar Pate   \n",
       "3 2022-06-29 08:19:00                       Heta   \n",
       "4 2022-06-29 08:19:00                       Heta   \n",
       "\n",
       "                                             message  \n",
       "0  Messages and calls are end-to-end encrypted. N...  \n",
       "1  https://mega.nz/folder/ldBSEa6K\\n\\n\\n\\n9EfsI2j...  \n",
       "2                          🥹 Khusi k aansu aa gaye\\n  \n",
       "3                                             ❤️🥺🥺\\n  \n",
       "4                                    Khushi huie\\n\\n  "
      ]
     },
     "execution_count": 12,
     "metadata": {},
     "output_type": "execute_result"
    }
   ],
   "source": [
    "users = []\n",
    "messages = []\n",
    "for message in df['user_message']:\n",
    "    entry = re.split('([\\w\\W]+?):\\s', message)\n",
    "    if entry[1:]:  # user name\n",
    "        users.append(entry[1])\n",
    "        messages.append(\" \".join(entry[2:]))\n",
    "    else:\n",
    "        users.append('group_notification')\n",
    "        messages.append(entry[0])\n",
    "\n",
    "df['user'] = users\n",
    "df['message'] = messages\n",
    "df.drop(columns=['user_message'], inplace=True)\n",
    "df"
   ]
  },
  {
   "cell_type": "code",
   "execution_count": 14,
   "id": "d8c0b848",
   "metadata": {},
   "outputs": [],
   "source": [
    "df['only_date'] = df['date'].dt.date\n",
    "df['year'] = df['date'].dt.year\n",
    "df['month_num'] = df['date'].dt.month\n",
    "df['month'] = df['date'].dt.month_name()\n",
    "df['day'] = df['date'].dt.day\n",
    "df['day_name'] = df['date'].dt.day_name()\n",
    "df['hour'] = df['date'].dt.hour\n",
    "df['minute'] = df['date'].dt.minute"
   ]
  },
  {
   "cell_type": "code",
   "execution_count": 15,
   "id": "3ee0bf6a",
   "metadata": {},
   "outputs": [
    {
     "data": {
      "text/html": [
       "<div>\n",
       "<style scoped>\n",
       "    .dataframe tbody tr th:only-of-type {\n",
       "        vertical-align: middle;\n",
       "    }\n",
       "\n",
       "    .dataframe tbody tr th {\n",
       "        vertical-align: top;\n",
       "    }\n",
       "\n",
       "    .dataframe thead th {\n",
       "        text-align: right;\n",
       "    }\n",
       "</style>\n",
       "<table border=\"1\" class=\"dataframe\">\n",
       "  <thead>\n",
       "    <tr style=\"text-align: right;\">\n",
       "      <th></th>\n",
       "      <th>date</th>\n",
       "      <th>user</th>\n",
       "      <th>message</th>\n",
       "      <th>only_date</th>\n",
       "      <th>year</th>\n",
       "      <th>month_num</th>\n",
       "      <th>month</th>\n",
       "      <th>day</th>\n",
       "      <th>day_name</th>\n",
       "      <th>hour</th>\n",
       "      <th>minute</th>\n",
       "    </tr>\n",
       "  </thead>\n",
       "  <tbody>\n",
       "    <tr>\n",
       "      <th>0</th>\n",
       "      <td>2022-06-29 09:15:00</td>\n",
       "      <td>group_notification</td>\n",
       "      <td>Messages and calls are end-to-end encrypted. N...</td>\n",
       "      <td>2022-06-29</td>\n",
       "      <td>2022</td>\n",
       "      <td>6</td>\n",
       "      <td>June</td>\n",
       "      <td>29</td>\n",
       "      <td>Wednesday</td>\n",
       "      <td>9</td>\n",
       "      <td>15</td>\n",
       "    </tr>\n",
       "    <tr>\n",
       "      <th>1</th>\n",
       "      <td>2022-06-29 07:50:00</td>\n",
       "      <td>Heta</td>\n",
       "      <td>https://mega.nz/folder/ldBSEa6K\\n\\n\\n\\n9EfsI2j...</td>\n",
       "      <td>2022-06-29</td>\n",
       "      <td>2022</td>\n",
       "      <td>6</td>\n",
       "      <td>June</td>\n",
       "      <td>29</td>\n",
       "      <td>Wednesday</td>\n",
       "      <td>7</td>\n",
       "      <td>50</td>\n",
       "    </tr>\n",
       "    <tr>\n",
       "      <th>2</th>\n",
       "      <td>2022-06-29 08:04:00</td>\n",
       "      <td>Dipkumar Hareshkumar Pate</td>\n",
       "      <td>🥹 Khusi k aansu aa gaye\\n</td>\n",
       "      <td>2022-06-29</td>\n",
       "      <td>2022</td>\n",
       "      <td>6</td>\n",
       "      <td>June</td>\n",
       "      <td>29</td>\n",
       "      <td>Wednesday</td>\n",
       "      <td>8</td>\n",
       "      <td>4</td>\n",
       "    </tr>\n",
       "    <tr>\n",
       "      <th>3</th>\n",
       "      <td>2022-06-29 08:19:00</td>\n",
       "      <td>Heta</td>\n",
       "      <td>❤️🥺🥺\\n</td>\n",
       "      <td>2022-06-29</td>\n",
       "      <td>2022</td>\n",
       "      <td>6</td>\n",
       "      <td>June</td>\n",
       "      <td>29</td>\n",
       "      <td>Wednesday</td>\n",
       "      <td>8</td>\n",
       "      <td>19</td>\n",
       "    </tr>\n",
       "    <tr>\n",
       "      <th>4</th>\n",
       "      <td>2022-06-29 08:19:00</td>\n",
       "      <td>Heta</td>\n",
       "      <td>Khushi huie\\n\\n</td>\n",
       "      <td>2022-06-29</td>\n",
       "      <td>2022</td>\n",
       "      <td>6</td>\n",
       "      <td>June</td>\n",
       "      <td>29</td>\n",
       "      <td>Wednesday</td>\n",
       "      <td>8</td>\n",
       "      <td>19</td>\n",
       "    </tr>\n",
       "  </tbody>\n",
       "</table>\n",
       "</div>"
      ],
      "text/plain": [
       "                 date                       user  \\\n",
       "0 2022-06-29 09:15:00         group_notification   \n",
       "1 2022-06-29 07:50:00                       Heta   \n",
       "2 2022-06-29 08:04:00  Dipkumar Hareshkumar Pate   \n",
       "3 2022-06-29 08:19:00                       Heta   \n",
       "4 2022-06-29 08:19:00                       Heta   \n",
       "\n",
       "                                             message   only_date  year  \\\n",
       "0  Messages and calls are end-to-end encrypted. N...  2022-06-29  2022   \n",
       "1  https://mega.nz/folder/ldBSEa6K\\n\\n\\n\\n9EfsI2j...  2022-06-29  2022   \n",
       "2                          🥹 Khusi k aansu aa gaye\\n  2022-06-29  2022   \n",
       "3                                             ❤️🥺🥺\\n  2022-06-29  2022   \n",
       "4                                    Khushi huie\\n\\n  2022-06-29  2022   \n",
       "\n",
       "   month_num month  day   day_name  hour  minute  \n",
       "0          6  June   29  Wednesday     9      15  \n",
       "1          6  June   29  Wednesday     7      50  \n",
       "2          6  June   29  Wednesday     8       4  \n",
       "3          6  June   29  Wednesday     8      19  \n",
       "4          6  June   29  Wednesday     8      19  "
      ]
     },
     "execution_count": 15,
     "metadata": {},
     "output_type": "execute_result"
    }
   ],
   "source": [
    "df"
   ]
  },
  {
   "cell_type": "code",
   "execution_count": null,
   "id": "368dd9a8",
   "metadata": {},
   "outputs": [],
   "source": []
  }
 ],
 "metadata": {
  "kernelspec": {
   "display_name": "Python 3 (ipykernel)",
   "language": "python",
   "name": "python3"
  },
  "language_info": {
   "codemirror_mode": {
    "name": "ipython",
    "version": 3
   },
   "file_extension": ".py",
   "mimetype": "text/x-python",
   "name": "python",
   "nbconvert_exporter": "python",
   "pygments_lexer": "ipython3",
   "version": "3.9.4"
  }
 },
 "nbformat": 4,
 "nbformat_minor": 5
}
